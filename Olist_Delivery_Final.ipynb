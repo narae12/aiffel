{
  "cells": [
    {
      "cell_type": "markdown",
      "metadata": {
        "id": "view-in-github",
        "colab_type": "text"
      },
      "source": [
        "<a href=\"https://colab.research.google.com/github/narae12/aiffel/blob/main/Olist_Delivery_Final.ipynb\" target=\"_parent\"><img src=\"https://colab.research.google.com/assets/colab-badge.svg\" alt=\"Open In Colab\"/></a>"
      ]
    },
    {
      "cell_type": "markdown",
      "metadata": {
        "id": "QV1_A3bOHBi9"
      },
      "source": [
        "# 통합 배송 데이터 분석"
      ]
    },
    {
      "cell_type": "markdown",
      "metadata": {
        "id": "YWmo1IQgHBi-"
      },
      "source": [
        "## 데이터 로드 및 초기 설정"
      ]
    },
    {
      "cell_type": "code",
      "execution_count": null,
      "metadata": {
        "id": "X4rVify3HBi-"
      },
      "outputs": [],
      "source": [
        "# 필요한 라이브러리 임포트\n",
        "import pandas as pd\n",
        "import numpy as np\n",
        "import matplotlib.pyplot as plt\n",
        "import seaborn as sns\n",
        "import os\n",
        "from sklearn.model_selection import train_test_split\n",
        "from sklearn.preprocessing import StandardScaler\n",
        "from sklearn.metrics import classification_report, roc_auc_score, confusion_matrix\n",
        "from sklearn.ensemble import RandomForestClassifier\n",
        "from sklearn.linear_model import LogisticRegression\n",
        "import xgboost as xgb\n",
        "import kagglehub\n",
        "from sklearn.impute import SimpleImputer\n",
        "from sklearn.preprocessing import StandardScaler\n",
        "from imblearn.over_sampling import SMOTE\n"
      ]
    },
    {
      "cell_type": "markdown",
      "metadata": {
        "id": "nVFH_xfBHBi_"
      },
      "source": [
        "## 데이터 로드"
      ]
    },
    {
      "cell_type": "code",
      "execution_count": null,
      "metadata": {
        "id": "N5Ezgwk4HBi_"
      },
      "outputs": [],
      "source": [
        "# 데이터 로드_나래\n",
        "# order_items = pd.read_csv('/content/drive/MyDrive/아이펠/data/olist_order_items_dataset.csv')\n",
        "# products = pd.read_csv('/content/drive/MyDrive/아이펠/data/olist_products_dataset.csv')\n",
        "# orders = pd.read_csv('/content/drive/MyDrive/아이펠/data/olist_orders_dataset.csv')\n",
        "# customers = pd.read_csv(\"/content/drive/MyDrive/아이펠/data/olist_customers_dataset.csv\")\n",
        "# sellers = pd.read_csv(\"/content/drive/MyDrive/아이펠/data/olist_sellers_dataset.csv\")"
      ]
    },
    {
      "cell_type": "code",
      "execution_count": null,
      "metadata": {
        "id": "0ivoEDFnHBi_",
        "outputId": "230fd504-8255-4a85-c00e-e123a975235a",
        "colab": {
          "base_uri": "https://localhost:8080/"
        }
      },
      "outputs": [
        {
          "output_type": "stream",
          "name": "stdout",
          "text": [
            "Warning: Looks like you're using an outdated `kagglehub` version (installed: 0.3.9), please consider upgrading to the latest version (0.3.10).\n",
            "Downloading from https://www.kaggle.com/api/v1/datasets/download/olistbr/brazilian-ecommerce?dataset_version_number=2...\n"
          ]
        },
        {
          "output_type": "stream",
          "name": "stderr",
          "text": [
            "100%|██████████| 42.6M/42.6M [00:01<00:00, 27.2MB/s]"
          ]
        },
        {
          "output_type": "stream",
          "name": "stdout",
          "text": [
            "Extracting files...\n"
          ]
        },
        {
          "output_type": "stream",
          "name": "stderr",
          "text": [
            "\n"
          ]
        }
      ],
      "source": [
        "# 데이터 로드_소희\n",
        "\n",
        "# Download latest version\n",
        "path = kagglehub.dataset_download(\"olistbr/brazilian-ecommerce\")\n",
        "\n",
        "# CSV 파일로 읽기\n",
        "# 제품 관련 데이터\n",
        "orders = pd.read_csv(os.path.join(path, 'olist_orders_dataset.csv'))\n",
        "order_items = pd.read_csv(os.path.join(path, 'olist_order_items_dataset.csv'))\n",
        "products = pd.read_csv(os.path.join(path, 'olist_products_dataset.csv'))\n",
        "sellers = pd.read_csv(os.path.join(path, 'olist_sellers_dataset.csv'))\n",
        "customers = pd.read_csv(os.path.join(path, 'olist_customers_dataset.csv'))"
      ]
    },
    {
      "cell_type": "markdown",
      "metadata": {
        "id": "MVo_EEYZHBi_"
      },
      "source": [
        "## 데이터 병합 및 전처리"
      ]
    },
    {
      "cell_type": "markdown",
      "metadata": {
        "id": "0nVsHik7HBi_"
      },
      "source": [
        "### 데이터 병합"
      ]
    },
    {
      "cell_type": "code",
      "execution_count": null,
      "metadata": {
        "id": "N5-UA2N_HBi_"
      },
      "outputs": [],
      "source": [
        "# 병합 단계\n",
        "merge_df = order_items.merge(products, on='product_id', how='left')\n",
        "full_df = merge_df.merge(orders, on='order_id', how='left')\n",
        "full_df = full_df.merge(customers[['customer_id', 'customer_city']], on='customer_id', how='left')\n",
        "full_df = full_df.merge(sellers[['seller_id', 'seller_city']], on='seller_id', how='left')"
      ]
    },
    {
      "cell_type": "markdown",
      "metadata": {
        "id": "wiik2UiJHBi_"
      },
      "source": [
        "### 날짜 데이터 변환 및 추가 전처리"
      ]
    },
    {
      "cell_type": "code",
      "execution_count": null,
      "metadata": {
        "id": "THXAHO28HBjA"
      },
      "outputs": [],
      "source": [
        "# 날짜 데이터 변환\n",
        "full_df['order_delivered_customer_date'] = pd.to_datetime(full_df['order_delivered_customer_date'])\n",
        "full_df['order_delivered_carrier_date'] = pd.to_datetime(full_df['order_delivered_carrier_date'])\n",
        "full_df['order_estimated_delivery_date'] = pd.to_datetime(full_df['order_estimated_delivery_date'])\n",
        "\n",
        "# 배송 시간 계산\n",
        "full_df['actual_shipping_time'] = (full_df['order_delivered_customer_date'] - full_df['order_delivered_carrier_date']).dt.days\n",
        "# 배송 지연 여부 (예측 배송 날짜보다 늦게 도착하면 지연)\n",
        "full_df['delivery_delay'] = (full_df['order_delivered_customer_date'] - full_df['order_estimated_delivery_date']).dt.days # 지연 여부 (True / False)\n",
        "# full_df 생성 (merge_df와 orders 데이터 병합)\n",
        "full_df['delayed'] = full_df['delivery_delay'] > 0"
      ]
    },
    {
      "cell_type": "code",
      "source": [
        "full_df.shape"
      ],
      "metadata": {
        "colab": {
          "base_uri": "https://localhost:8080/"
        },
        "id": "75wvDw4b5IUs",
        "outputId": "5fee790a-5b44-4d6f-96aa-c8e5c9f0faff"
      },
      "execution_count": null,
      "outputs": [
        {
          "output_type": "execute_result",
          "data": {
            "text/plain": [
              "(112650, 27)"
            ]
          },
          "metadata": {},
          "execution_count": 6
        }
      ]
    },
    {
      "cell_type": "code",
      "source": [
        "full_df.isnull().sum() #매우 중요한 변수들이므로 결측치는 drop"
      ],
      "metadata": {
        "colab": {
          "base_uri": "https://localhost:8080/",
          "height": 930
        },
        "id": "PBVdWVfA4RcR",
        "outputId": "18ccd56b-bfb2-4c5d-c2a7-929e834f7ae7"
      },
      "execution_count": null,
      "outputs": [
        {
          "output_type": "execute_result",
          "data": {
            "text/plain": [
              "order_id                            0\n",
              "order_item_id                       0\n",
              "product_id                          0\n",
              "seller_id                           0\n",
              "shipping_limit_date                 0\n",
              "price                               0\n",
              "freight_value                       0\n",
              "product_category_name            1603\n",
              "product_name_lenght              1603\n",
              "product_description_lenght       1603\n",
              "product_photos_qty               1603\n",
              "product_weight_g                   18\n",
              "product_length_cm                  18\n",
              "product_height_cm                  18\n",
              "product_width_cm                   18\n",
              "customer_id                         0\n",
              "order_status                        0\n",
              "order_purchase_timestamp            0\n",
              "order_approved_at                  15\n",
              "order_delivered_carrier_date     1194\n",
              "order_delivered_customer_date    2454\n",
              "order_estimated_delivery_date       0\n",
              "customer_city                       0\n",
              "seller_city                         0\n",
              "actual_shipping_time             2455\n",
              "delivery_delay                   2454\n",
              "delayed                             0\n",
              "dtype: int64"
            ],
            "text/html": [
              "<div>\n",
              "<style scoped>\n",
              "    .dataframe tbody tr th:only-of-type {\n",
              "        vertical-align: middle;\n",
              "    }\n",
              "\n",
              "    .dataframe tbody tr th {\n",
              "        vertical-align: top;\n",
              "    }\n",
              "\n",
              "    .dataframe thead th {\n",
              "        text-align: right;\n",
              "    }\n",
              "</style>\n",
              "<table border=\"1\" class=\"dataframe\">\n",
              "  <thead>\n",
              "    <tr style=\"text-align: right;\">\n",
              "      <th></th>\n",
              "      <th>0</th>\n",
              "    </tr>\n",
              "  </thead>\n",
              "  <tbody>\n",
              "    <tr>\n",
              "      <th>order_id</th>\n",
              "      <td>0</td>\n",
              "    </tr>\n",
              "    <tr>\n",
              "      <th>order_item_id</th>\n",
              "      <td>0</td>\n",
              "    </tr>\n",
              "    <tr>\n",
              "      <th>product_id</th>\n",
              "      <td>0</td>\n",
              "    </tr>\n",
              "    <tr>\n",
              "      <th>seller_id</th>\n",
              "      <td>0</td>\n",
              "    </tr>\n",
              "    <tr>\n",
              "      <th>shipping_limit_date</th>\n",
              "      <td>0</td>\n",
              "    </tr>\n",
              "    <tr>\n",
              "      <th>price</th>\n",
              "      <td>0</td>\n",
              "    </tr>\n",
              "    <tr>\n",
              "      <th>freight_value</th>\n",
              "      <td>0</td>\n",
              "    </tr>\n",
              "    <tr>\n",
              "      <th>product_category_name</th>\n",
              "      <td>1603</td>\n",
              "    </tr>\n",
              "    <tr>\n",
              "      <th>product_name_lenght</th>\n",
              "      <td>1603</td>\n",
              "    </tr>\n",
              "    <tr>\n",
              "      <th>product_description_lenght</th>\n",
              "      <td>1603</td>\n",
              "    </tr>\n",
              "    <tr>\n",
              "      <th>product_photos_qty</th>\n",
              "      <td>1603</td>\n",
              "    </tr>\n",
              "    <tr>\n",
              "      <th>product_weight_g</th>\n",
              "      <td>18</td>\n",
              "    </tr>\n",
              "    <tr>\n",
              "      <th>product_length_cm</th>\n",
              "      <td>18</td>\n",
              "    </tr>\n",
              "    <tr>\n",
              "      <th>product_height_cm</th>\n",
              "      <td>18</td>\n",
              "    </tr>\n",
              "    <tr>\n",
              "      <th>product_width_cm</th>\n",
              "      <td>18</td>\n",
              "    </tr>\n",
              "    <tr>\n",
              "      <th>customer_id</th>\n",
              "      <td>0</td>\n",
              "    </tr>\n",
              "    <tr>\n",
              "      <th>order_status</th>\n",
              "      <td>0</td>\n",
              "    </tr>\n",
              "    <tr>\n",
              "      <th>order_purchase_timestamp</th>\n",
              "      <td>0</td>\n",
              "    </tr>\n",
              "    <tr>\n",
              "      <th>order_approved_at</th>\n",
              "      <td>15</td>\n",
              "    </tr>\n",
              "    <tr>\n",
              "      <th>order_delivered_carrier_date</th>\n",
              "      <td>1194</td>\n",
              "    </tr>\n",
              "    <tr>\n",
              "      <th>order_delivered_customer_date</th>\n",
              "      <td>2454</td>\n",
              "    </tr>\n",
              "    <tr>\n",
              "      <th>order_estimated_delivery_date</th>\n",
              "      <td>0</td>\n",
              "    </tr>\n",
              "    <tr>\n",
              "      <th>customer_city</th>\n",
              "      <td>0</td>\n",
              "    </tr>\n",
              "    <tr>\n",
              "      <th>seller_city</th>\n",
              "      <td>0</td>\n",
              "    </tr>\n",
              "    <tr>\n",
              "      <th>actual_shipping_time</th>\n",
              "      <td>2455</td>\n",
              "    </tr>\n",
              "    <tr>\n",
              "      <th>delivery_delay</th>\n",
              "      <td>2454</td>\n",
              "    </tr>\n",
              "    <tr>\n",
              "      <th>delayed</th>\n",
              "      <td>0</td>\n",
              "    </tr>\n",
              "  </tbody>\n",
              "</table>\n",
              "</div><br><label><b>dtype:</b> int64</label>"
            ]
          },
          "metadata": {},
          "execution_count": 7
        }
      ]
    },
    {
      "cell_type": "markdown",
      "metadata": {
        "id": "kZunJNJhHBjA"
      },
      "source": [
        "### 결측값 처리"
      ]
    },
    {
      "cell_type": "code",
      "execution_count": null,
      "metadata": {
        "id": "Ormxb3qAHBjA"
      },
      "outputs": [],
      "source": [
        "# 결측값 제거\n",
        "full_df = full_df.dropna(subset=['actual_shipping_time', 'delivery_delay'])"
      ]
    },
    {
      "cell_type": "markdown",
      "source": [],
      "metadata": {
        "id": "UGwxDYsV5e17"
      }
    },
    {
      "cell_type": "code",
      "source": [
        "full_df.shape #약 2퍼센트 제거로 문제 없을것이라 판단"
      ],
      "metadata": {
        "colab": {
          "base_uri": "https://localhost:8080/"
        },
        "id": "ZlpoU0yc5eiw",
        "outputId": "0b85ec8c-4d27-46fa-b23a-da9a7bbee92c"
      },
      "execution_count": null,
      "outputs": [
        {
          "output_type": "execute_result",
          "data": {
            "text/plain": [
              "(110195, 27)"
            ]
          },
          "metadata": {},
          "execution_count": 10
        }
      ]
    },
    {
      "cell_type": "markdown",
      "metadata": {
        "id": "4XqSX7BrHBjA"
      },
      "source": [
        "### 데이터 탐색"
      ]
    },
    {
      "cell_type": "code",
      "execution_count": null,
      "metadata": {
        "id": "FS0VNLeLHBjA",
        "outputId": "a0f34379-fc7b-45fc-f07b-6c483a8e440e",
        "colab": {
          "base_uri": "https://localhost:8080/"
        }
      },
      "outputs": [
        {
          "output_type": "stream",
          "name": "stdout",
          "text": [
            "<class 'pandas.core.frame.DataFrame'>\n",
            "Index: 110195 entries, 0 to 112649\n",
            "Data columns (total 27 columns):\n",
            " #   Column                         Non-Null Count   Dtype         \n",
            "---  ------                         --------------   -----         \n",
            " 0   order_id                       110195 non-null  object        \n",
            " 1   order_item_id                  110195 non-null  int64         \n",
            " 2   product_id                     110195 non-null  object        \n",
            " 3   seller_id                      110195 non-null  object        \n",
            " 4   shipping_limit_date            110195 non-null  object        \n",
            " 5   price                          110195 non-null  float64       \n",
            " 6   freight_value                  110195 non-null  float64       \n",
            " 7   product_category_name          108658 non-null  object        \n",
            " 8   product_name_lenght            108658 non-null  float64       \n",
            " 9   product_description_lenght     108658 non-null  float64       \n",
            " 10  product_photos_qty             108658 non-null  float64       \n",
            " 11  product_weight_g               110177 non-null  float64       \n",
            " 12  product_length_cm              110177 non-null  float64       \n",
            " 13  product_height_cm              110177 non-null  float64       \n",
            " 14  product_width_cm               110177 non-null  float64       \n",
            " 15  customer_id                    110195 non-null  object        \n",
            " 16  order_status                   110195 non-null  object        \n",
            " 17  order_purchase_timestamp       110195 non-null  object        \n",
            " 18  order_approved_at              110180 non-null  object        \n",
            " 19  order_delivered_carrier_date   110195 non-null  datetime64[ns]\n",
            " 20  order_delivered_customer_date  110195 non-null  datetime64[ns]\n",
            " 21  order_estimated_delivery_date  110195 non-null  datetime64[ns]\n",
            " 22  customer_city                  110195 non-null  object        \n",
            " 23  seller_city                    110195 non-null  object        \n",
            " 24  actual_shipping_time           110195 non-null  float64       \n",
            " 25  delivery_delay                 110195 non-null  float64       \n",
            " 26  delayed                        110195 non-null  bool          \n",
            "dtypes: bool(1), datetime64[ns](3), float64(11), int64(1), object(11)\n",
            "memory usage: 22.8+ MB\n"
          ]
        }
      ],
      "source": [
        "full_df.info()"
      ]
    },
    {
      "cell_type": "markdown",
      "metadata": {
        "id": "ltlYVTWsHBjA"
      },
      "source": [
        "## EDA (탐색적 데이터 분석)"
      ]
    },
    {
      "cell_type": "markdown",
      "metadata": {
        "id": "sSNJP2VgHBjA"
      },
      "source": [
        "### 무게와 배송 시간 비교 (무거운 제품 vs 가벼운 제품 배송 차이 확인하기)"
      ]
    },
    {
      "cell_type": "code",
      "execution_count": null,
      "metadata": {
        "id": "rQAmClQjHBjA",
        "outputId": "fa5fa8ae-ec9f-498d-e43a-1d12c4fabcaf",
        "colab": {
          "base_uri": "https://localhost:8080/",
          "height": 487
        }
      },
      "outputs": [
        {
          "output_type": "display_data",
          "data": {
            "text/plain": [
              "<Figure size 800x500 with 1 Axes>"
            ],
            "image/png": "[encoded data removed]"
          },
          "metadata": {}
        }
      ],
      "source": [
        "# 제품 무게 기준 그룹 나누기(무거운 제품: 상위 50%, 가벼운 제품: 하위 50%)\n",
        "median_weight = full_df[\"product_weight_g\"].median()\n",
        "heavy_products = full_df[full_df[\"product_weight_g\"] >= median_weight]\n",
        "light_products = full_df[full_df[\"product_weight_g\"] < median_weight]\n",
        "\n",
        "# 각 그룹별 평균 배송 시간 계산\n",
        "avg_shipping_time_heavy = heavy_products[\"actual_shipping_time\"].mean()\n",
        "avg_shipping_time_light = light_products[\"actual_shipping_time\"].mean()\n",
        "\n",
        "# 시각화\n",
        "plt.figure(figsize=(8, 5))\n",
        "plt.bar([\"Heavy Products\", \"Light Products\"], [avg_shipping_time_heavy, avg_shipping_time_light])\n",
        "plt.xlabel(\"Product Type\")\n",
        "plt.ylabel(\"Average Shipping Time (Days)\")\n",
        "plt.title(\"Shipping Time: Heavy vs Light Products\")\n",
        "plt.show()"
      ]
    },
    {
      "cell_type": "markdown",
      "metadata": {
        "id": "AQFkYvoeHBjA"
      },
      "source": [
        "### 부피와 배송 시간 비교 (크기가 큰 제품 작은 제품 평균 배송 시간 비교하기)"
      ]
    },
    {
      "cell_type": "code",
      "execution_count": null,
      "metadata": {
        "id": "weoB5CZDHBjA",
        "outputId": "d3b5fbc3-c386-4471-a64b-dbee0b42101a",
        "colab": {
          "base_uri": "https://localhost:8080/",
          "height": 487
        }
      },
      "outputs": [
        {
          "output_type": "display_data",
          "data": {
            "text/plain": [
              "<Figure size 800x500 with 1 Axes>"
            ],
            "image/png": "[encoded data removed]"
          },
          "metadata": {}
        }
      ],
      "source": [
        "# 제품 부피 계산\n",
        "full_df[\"product_volume_cm3\"] = (\n",
        "    full_df[\"product_length_cm\"] * full_df[\"product_width_cm\"] * full_df[\"product_height_cm\"]\n",
        ")\n",
        "\n",
        "# 부피 기준 그룹 나누기\n",
        "median_volume = full_df[\"product_volume_cm3\"].median()\n",
        "large_products = full_df[full_df[\"product_volume_cm3\"] >= median_volume]\n",
        "small_products = full_df[full_df[\"product_volume_cm3\"] < median_volume]\n",
        "\n",
        "# 평균 배송 시간 계산\n",
        "avg_shipping_time_large = large_products[\"actual_shipping_time\"].mean()\n",
        "avg_shipping_time_small = small_products[\"actual_shipping_time\"].mean()\n",
        "\n",
        "# 시각화\n",
        "plt.figure(figsize=(8, 5))\n",
        "plt.bar([\"Large Products\", \"Small Products\"], [avg_shipping_time_large, avg_shipping_time_small])\n",
        "plt.xlabel(\"Product Type\")\n",
        "plt.ylabel(\"Average Shipping Time (Days)\")\n",
        "plt.title(\"Shipping Time: Large vs Small Products\")\n",
        "plt.show()"
      ]
    },
    {
      "cell_type": "markdown",
      "metadata": {
        "id": "U6TndGMwHBjA"
      },
      "source": [
        "### 배송 지연 분석 (가장 배송이 늦어지는 제품 찾아보기)"
      ]
    },
    {
      "cell_type": "code",
      "execution_count": null,
      "metadata": {
        "id": "2yZPYOLmHBjA",
        "outputId": "e2fe9ec6-822d-4a55-b3b2-3a0fd66ad1b1",
        "colab": {
          "base_uri": "https://localhost:8080/"
        }
      },
      "outputs": [
        {
          "output_type": "stream",
          "name": "stdout",
          "text": [
            "                         product_id  delay_count   product_category_name\n",
            "0  422879e10f46682990de24d770e7f83d           47      ferramentas_jardim\n",
            "1  aca2eb7d00ea1a7b8ebd4e68314663af           42        moveis_decoracao\n",
            "2  3fbc0ef745950c7932d5f2a446189725           39            beleza_saude\n",
            "3  389d119b48cf3043d311335e499d9c6b           30      ferramentas_jardim\n",
            "4  368c6c730842d78016ad823897a372db           29      ferramentas_jardim\n",
            "5  99a4788cb24856965c36a24e339b6058           29         cama_mesa_banho\n",
            "6  53759a2ecddad2bb87a079a1f1519f73           29      ferramentas_jardim\n",
            "7  bb50f2e236e5eea0100680137654686c           28            beleza_saude\n",
            "8  19c91ef95d509ea33eda93495c4d3481           28            beleza_saude\n",
            "9  e53e557d5a159f5aa2c5e995dfdf244b           25  informatica_acessorios\n"
          ]
        }
      ],
      "source": [
        "# 지연된 주문 필터링\n",
        "delayed_orders = full_df[full_df[\"delayed\"]]\n",
        "\n",
        "# 제품별 지연 횟수 집계\n",
        "delayed_products_count = delayed_orders.groupby(\"product_id\").size().reset_index(name=\"delay_count\")\n",
        "\n",
        "# 지연 횟수 상위 10개 제품\n",
        "top_delayed_products = delayed_products_count.sort_values(by=\"delay_count\", ascending=False).head(10)\n",
        "\n",
        "# 제품 카테고리 추가\n",
        "top_delayed_products = pd.merge(top_delayed_products, products[[\"product_id\", \"product_category_name\"]], on=\"product_id\", how=\"left\")\n",
        "\n",
        "# 결과 표시\n",
        "print(top_delayed_products)"
      ]
    },
    {
      "cell_type": "markdown",
      "metadata": {
        "id": "UDAr5r0mHBjA"
      },
      "source": [
        "### 왜 늦어졌는지 분석해 보기"
      ]
    },
    {
      "cell_type": "code",
      "execution_count": null,
      "metadata": {
        "id": "bVzO5_vzHBjA",
        "outputId": "e59a6654-c09c-425e-d01b-84700609f1a8",
        "colab": {
          "base_uri": "https://localhost:8080/",
          "height": 363
        }
      },
      "outputs": [
        {
          "output_type": "execute_result",
          "data": {
            "text/plain": [
              "                         product_id  delay_count   product_category_name\n",
              "0  422879e10f46682990de24d770e7f83d           47      ferramentas_jardim\n",
              "1  aca2eb7d00ea1a7b8ebd4e68314663af           42        moveis_decoracao\n",
              "2  3fbc0ef745950c7932d5f2a446189725           39            beleza_saude\n",
              "3  389d119b48cf3043d311335e499d9c6b           30      ferramentas_jardim\n",
              "4  368c6c730842d78016ad823897a372db           29      ferramentas_jardim\n",
              "5  99a4788cb24856965c36a24e339b6058           29         cama_mesa_banho\n",
              "6  53759a2ecddad2bb87a079a1f1519f73           29      ferramentas_jardim\n",
              "7  bb50f2e236e5eea0100680137654686c           28            beleza_saude\n",
              "8  19c91ef95d509ea33eda93495c4d3481           28            beleza_saude\n",
              "9  e53e557d5a159f5aa2c5e995dfdf244b           25  informatica_acessorios"
            ],
            "text/html": [
              "\n",
              "  <div id=\"df-8de1e651-7ed1-4f78-8694-855270c547ac\" class=\"colab-df-container\">\n",
              "    <div>\n",
              "<style scoped>\n",
              "    .dataframe tbody tr th:only-of-type {\n",
              "        vertical-align: middle;\n",
              "    }\n",
              "\n",
              "    .dataframe tbody tr th {\n",
              "        vertical-align: top;\n",
              "    }\n",
              "\n",
              "    .dataframe thead th {\n",
              "        text-align: right;\n",
              "    }\n",
              "</style>\n",
              "<table border=\"1\" class=\"dataframe\">\n",
              "  <thead>\n",
              "    <tr style=\"text-align: right;\">\n",
              "      <th></th>\n",
              "      <th>product_id</th>\n",
              "      <th>delay_count</th>\n",
              "      <th>product_category_name</th>\n",
              "    </tr>\n",
              "  </thead>\n",
              "  <tbody>\n",
              "    <tr>\n",
              "      <th>0</th>\n",
              "      <td>422879e10f46682990de24d770e7f83d</td>\n",
              "      <td>47</td>\n",
              "      <td>ferramentas_jardim</td>\n",
              "    </tr>\n",
              "    <tr>\n",
              "      <th>1</th>\n",
              "      <td>aca2eb7d00ea1a7b8ebd4e68314663af</td>\n",
              "      <td>42</td>\n",
              "      <td>moveis_decoracao</td>\n",
              "    </tr>\n",
              "    <tr>\n",
              "      <th>2</th>\n",
              "      <td>3fbc0ef745950c7932d5f2a446189725</td>\n",
              "      <td>39</td>\n",
              "      <td>beleza_saude</td>\n",
              "    </tr>\n",
              "    <tr>\n",
              "      <th>3</th>\n",
              "      <td>389d119b48cf3043d311335e499d9c6b</td>\n",
              "      <td>30</td>\n",
              "      <td>ferramentas_jardim</td>\n",
              "    </tr>\n",
              "    <tr>\n",
              "      <th>4</th>\n",
              "      <td>368c6c730842d78016ad823897a372db</td>\n",
              "      <td>29</td>\n",
              "      <td>ferramentas_jardim</td>\n",
              "    </tr>\n",
              "    <tr>\n",
              "      <th>5</th>\n",
              "      <td>99a4788cb24856965c36a24e339b6058</td>\n",
              "      <td>29</td>\n",
              "      <td>cama_mesa_banho</td>\n",
              "    </tr>\n",
              "    <tr>\n",
              "      <th>6</th>\n",
              "      <td>53759a2ecddad2bb87a079a1f1519f73</td>\n",
              "      <td>29</td>\n",
              "      <td>ferramentas_jardim</td>\n",
              "    </tr>\n",
              "    <tr>\n",
              "      <th>7</th>\n",
              "      <td>bb50f2e236e5eea0100680137654686c</td>\n",
              "      <td>28</td>\n",
              "      <td>beleza_saude</td>\n",
              "    </tr>\n",
              "    <tr>\n",
              "      <th>8</th>\n",
              "      <td>19c91ef95d509ea33eda93495c4d3481</td>\n",
              "      <td>28</td>\n",
              "      <td>beleza_saude</td>\n",
              "    </tr>\n",
              "    <tr>\n",
              "      <th>9</th>\n",
              "      <td>e53e557d5a159f5aa2c5e995dfdf244b</td>\n",
              "      <td>25</td>\n",
              "      <td>informatica_acessorios</td>\n",
              "    </tr>\n",
              "  </tbody>\n",
              "</table>\n",
              "</div>\n",
              "    <div class=\"colab-df-buttons\">\n",
              "\n",
              "  <div class=\"colab-df-container\">\n",
              "    <button class=\"colab-df-convert\" onclick=\"convertToInteractive('df-8de1e651-7ed1-4f78-8694-855270c547ac')\"\n",
              "            title=\"Convert this dataframe to an interactive table.\"\n",
              "            style=\"display:none;\">\n",
              "\n",
              "  <svg xmlns=\"http://www.w3.org/2000/svg\" height=\"24px\" viewBox=\"0 -960 960 960\">\n",
              "    <path d=\"M120-120v-720h720v720H120Zm60-500h600v-160H180v160Zm220 220h160v-160H400v160Zm0 220h160v-160H400v160ZM180-400h160v-160H180v160Zm440 0h160v-160H620v160ZM180-180h160v-160H180v160Zm440 0h160v-160H620v160Z\"/>\n",
              "  </svg>\n",
              "    </button>\n",
              "\n",
              "  <style>\n",
              "    .colab-df-container {\n",
              "      display:flex;\n",
              "      gap: 12px;\n",
              "    }\n",
              "\n",
              "    .colab-df-convert {\n",
              "      background-color: #E8F0FE;\n",
              "      border: none;\n",
              "      border-radius: 50%;\n",
              "      cursor: pointer;\n",
              "      display: none;\n",
              "      fill: #1967D2;\n",
              "      height: 32px;\n",
              "      padding: 0 0 0 0;\n",
              "      width: 32px;\n",
              "    }\n",
              "\n",
              "    .colab-df-convert:hover {\n",
              "      background-color: #E2EBFA;\n",
              "      box-shadow: 0px 1px 2px rgba(60, 64, 67, 0.3), 0px 1px 3px 1px rgba(60, 64, 67, 0.15);\n",
              "      fill: #174EA6;\n",
              "    }\n",
              "\n",
              "    .colab-df-buttons div {\n",
              "      margin-bottom: 4px;\n",
              "    }\n",
              "\n",
              "    [theme=dark] .colab-df-convert {\n",
              "      background-color: #3B4455;\n",
              "      fill: #D2E3FC;\n",
              "    }\n",
              "\n",
              "    [theme=dark] .colab-df-convert:hover {\n",
              "      background-color: #434B5C;\n",
              "      box-shadow: 0px 1px 3px 1px rgba(0, 0, 0, 0.15);\n",
              "      filter: drop-shadow(0px 1px 2px rgba(0, 0, 0, 0.3));\n",
              "      fill: #FFFFFF;\n",
              "    }\n",
              "  </style>\n",
              "\n",
              "    <script>\n",
              "      const buttonEl =\n",
              "        document.querySelector('#df-8de1e651-7ed1-4f78-8694-855270c547ac button.colab-df-convert');\n",
              "      buttonEl.style.display =\n",
              "        google.colab.kernel.accessAllowed ? 'block' : 'none';\n",
              "\n",
              "      async function convertToInteractive(key) {\n",
              "        const element = document.querySelector('#df-8de1e651-7ed1-4f78-8694-855270c547ac');\n",
              "        const dataTable =\n",
              "          await google.colab.kernel.invokeFunction('convertToInteractive',\n",
              "                                                    [key], {});\n",
              "        if (!dataTable) return;\n",
              "\n",
              "        const docLinkHtml = 'Like what you see? Visit the ' +\n",
              "          '<a target=\"_blank\" href=https://colab.research.google.com/notebooks/data_table.ipynb>data table notebook</a>'\n",
              "          + ' to learn more about interactive tables.';\n",
              "        element.innerHTML = '';\n",
              "        dataTable['output_type'] = 'display_data';\n",
              "        await google.colab.output.renderOutput(dataTable, element);\n",
              "        const docLink = document.createElement('div');\n",
              "        docLink.innerHTML = docLinkHtml;\n",
              "        element.appendChild(docLink);\n",
              "      }\n",
              "    </script>\n",
              "  </div>\n",
              "\n",
              "\n",
              "<div id=\"df-b332c929-feca-44a8-8bc3-271d97006c56\">\n",
              "  <button class=\"colab-df-quickchart\" onclick=\"quickchart('df-b332c929-feca-44a8-8bc3-271d97006c56')\"\n",
              "            title=\"Suggest charts\"\n",
              "            style=\"display:none;\">\n",
              "\n",
              "<svg xmlns=\"http://www.w3.org/2000/svg\" height=\"24px\"viewBox=\"0 0 24 24\"\n",
              "     width=\"24px\">\n",
              "    <g>\n",
              "        <path d=\"M19 3H5c-1.1 0-2 .9-2 2v14c0 1.1.9 2 2 2h14c1.1 0 2-.9 2-2V5c0-1.1-.9-2-2-2zM9 17H7v-7h2v7zm4 0h-2V7h2v10zm4 0h-2v-4h2v4z\"/>\n",
              "    </g>\n",
              "</svg>\n",
              "  </button>\n",
              "\n",
              "<style>\n",
              "  .colab-df-quickchart {\n",
              "      --bg-color: #E8F0FE;\n",
              "      --fill-color: #1967D2;\n",
              "      --hover-bg-color: #E2EBFA;\n",
              "      --hover-fill-color: #174EA6;\n",
              "      --disabled-fill-color: #AAA;\n",
              "      --disabled-bg-color: #DDD;\n",
              "  }\n",
              "\n",
              "  [theme=dark] .colab-df-quickchart {\n",
              "      --bg-color: #3B4455;\n",
              "      --fill-color: #D2E3FC;\n",
              "      --hover-bg-color: #434B5C;\n",
              "      --hover-fill-color: #FFFFFF;\n",
              "      --disabled-bg-color: #3B4455;\n",
              "      --disabled-fill-color: #666;\n",
              "  }\n",
              "\n",
              "  .colab-df-quickchart {\n",
              "    background-color: var(--bg-color);\n",
              "    border: none;\n",
              "    border-radius: 50%;\n",
              "    cursor: pointer;\n",
              "    display: none;\n",
              "    fill: var(--fill-color);\n",
              "    height: 32px;\n",
              "    padding: 0;\n",
              "    width: 32px;\n",
              "  }\n",
              "\n",
              "  .colab-df-quickchart:hover {\n",
              "    background-color: var(--hover-bg-color);\n",
              "    box-shadow: 0 1px 2px rgba(60, 64, 67, 0.3), 0 1px 3px 1px rgba(60, 64, 67, 0.15);\n",
              "    fill: var(--button-hover-fill-color);\n",
              "  }\n",
              "\n",
              "  .colab-df-quickchart-complete:disabled,\n",
              "  .colab-df-quickchart-complete:disabled:hover {\n",
              "    background-color: var(--disabled-bg-color);\n",
              "    fill: var(--disabled-fill-color);\n",
              "    box-shadow: none;\n",
              "  }\n",
              "\n",
              "  .colab-df-spinner {\n",
              "    border: 2px solid var(--fill-color);\n",
              "    border-color: transparent;\n",
              "    border-bottom-color: var(--fill-color);\n",
              "    animation:\n",
              "      spin 1s steps(1) infinite;\n",
              "  }\n",
              "\n",
              "  @keyframes spin {\n",
              "    0% {\n",
              "      border-color: transparent;\n",
              "      border-bottom-color: var(--fill-color);\n",
              "      border-left-color: var(--fill-color);\n",
              "    }\n",
              "    20% {\n",
              "      border-color: transparent;\n",
              "      border-left-color: var(--fill-color);\n",
              "      border-top-color: var(--fill-color);\n",
              "    }\n",
              "    30% {\n",
              "      border-color: transparent;\n",
              "      border-left-color: var(--fill-color);\n",
              "      border-top-color: var(--fill-color);\n",
              "      border-right-color: var(--fill-color);\n",
              "    }\n",
              "    40% {\n",
              "      border-color: transparent;\n",
              "      border-right-color: var(--fill-color);\n",
              "      border-top-color: var(--fill-color);\n",
              "    }\n",
              "    60% {\n",
              "      border-color: transparent;\n",
              "      border-right-color: var(--fill-color);\n",
              "    }\n",
              "    80% {\n",
              "      border-color: transparent;\n",
              "      border-right-color: var(--fill-color);\n",
              "      border-bottom-color: var(--fill-color);\n",
              "    }\n",
              "    90% {\n",
              "      border-color: transparent;\n",
              "      border-bottom-color: var(--fill-color);\n",
              "    }\n",
              "  }\n",
              "</style>\n",
              "\n",
              "  <script>\n",
              "    async function quickchart(key) {\n",
              "      const quickchartButtonEl =\n",
              "        document.querySelector('#' + key + ' button');\n",
              "      quickchartButtonEl.disabled = true;  // To prevent multiple clicks.\n",
              "      quickchartButtonEl.classList.add('colab-df-spinner');\n",
              "      try {\n",
              "        const charts = await google.colab.kernel.invokeFunction(\n",
              "            'suggestCharts', [key], {});\n",
              "      } catch (error) {\n",
              "        console.error('Error during call to suggestCharts:', error);\n",
              "      }\n",
              "      quickchartButtonEl.classList.remove('colab-df-spinner');\n",
              "      quickchartButtonEl.classList.add('colab-df-quickchart-complete');\n",
              "    }\n",
              "    (() => {\n",
              "      let quickchartButtonEl =\n",
              "        document.querySelector('#df-b332c929-feca-44a8-8bc3-271d97006c56 button');\n",
              "      quickchartButtonEl.style.display =\n",
              "        google.colab.kernel.accessAllowed ? 'block' : 'none';\n",
              "    })();\n",
              "  </script>\n",
              "</div>\n",
              "\n",
              "  <div id=\"id_cffc8d5d-e885-43a9-9888-2ed896facf14\">\n",
              "    <style>\n",
              "      .colab-df-generate {\n",
              "        background-color: #E8F0FE;\n",
              "        border: none;\n",
              "        border-radius: 50%;\n",
              "        cursor: pointer;\n",
              "        display: none;\n",
              "        fill: #1967D2;\n",
              "        height: 32px;\n",
              "        padding: 0 0 0 0;\n",
              "        width: 32px;\n",
              "      }\n",
              "\n",
              "      .colab-df-generate:hover {\n",
              "        background-color: #E2EBFA;\n",
              "        box-shadow: 0px 1px 2px rgba(60, 64, 67, 0.3), 0px 1px 3px 1px rgba(60, 64, 67, 0.15);\n",
              "        fill: #174EA6;\n",
              "      }\n",
              "\n",
              "      [theme=dark] .colab-df-generate {\n",
              "        background-color: #3B4455;\n",
              "        fill: #D2E3FC;\n",
              "      }\n",
              "\n",
              "      [theme=dark] .colab-df-generate:hover {\n",
              "        background-color: #434B5C;\n",
              "        box-shadow: 0px 1px 3px 1px rgba(0, 0, 0, 0.15);\n",
              "        filter: drop-shadow(0px 1px 2px rgba(0, 0, 0, 0.3));\n",
              "        fill: #FFFFFF;\n",
              "      }\n",
              "    </style>\n",
              "    <button class=\"colab-df-generate\" onclick=\"generateWithVariable('top_delayed_products')\"\n",
              "            title=\"Generate code using this dataframe.\"\n",
              "            style=\"display:none;\">\n",
              "\n",
              "  <svg xmlns=\"http://www.w3.org/2000/svg\" height=\"24px\"viewBox=\"0 0 24 24\"\n",
              "       width=\"24px\">\n",
              "    <path d=\"M7,19H8.4L18.45,9,17,7.55,7,17.6ZM5,21V16.75L18.45,3.32a2,2,0,0,1,2.83,0l1.4,1.43a1.91,1.91,0,0,1,.58,1.4,1.91,1.91,0,0,1-.58,1.4L9.25,21ZM18.45,9,17,7.55Zm-12,3A5.31,5.31,0,0,0,4.9,8.1,5.31,5.31,0,0,0,1,6.5,5.31,5.31,0,0,0,4.9,4.9,5.31,5.31,0,0,0,6.5,1,5.31,5.31,0,0,0,8.1,4.9,5.31,5.31,0,0,0,12,6.5,5.46,5.46,0,0,0,6.5,12Z\"/>\n",
              "  </svg>\n",
              "    </button>\n",
              "    <script>\n",
              "      (() => {\n",
              "      const buttonEl =\n",
              "        document.querySelector('#id_cffc8d5d-e885-43a9-9888-2ed896facf14 button.colab-df-generate');\n",
              "      buttonEl.style.display =\n",
              "        google.colab.kernel.accessAllowed ? 'block' : 'none';\n",
              "\n",
              "      buttonEl.onclick = () => {\n",
              "        google.colab.notebook.generateWithVariable('top_delayed_products');\n",
              "      }\n",
              "      })();\n",
              "    </script>\n",
              "  </div>\n",
              "\n",
              "    </div>\n",
              "  </div>\n"
            ],
            "application/vnd.google.colaboratory.intrinsic+json": {
              "type": "dataframe",
              "variable_name": "top_delayed_products",
              "summary": "{\n  \"name\": \"top_delayed_products\",\n  \"rows\": 10,\n  \"fields\": [\n    {\n      \"column\": \"product_id\",\n      \"properties\": {\n        \"dtype\": \"string\",\n        \"num_unique_values\": 10,\n        \"samples\": [\n          \"19c91ef95d509ea33eda93495c4d3481\",\n          \"aca2eb7d00ea1a7b8ebd4e68314663af\",\n          \"99a4788cb24856965c36a24e339b6058\"\n        ],\n        \"semantic_type\": \"\",\n        \"description\": \"\"\n      }\n    },\n    {\n      \"column\": \"delay_count\",\n      \"properties\": {\n        \"dtype\": \"number\",\n        \"std\": 7,\n        \"min\": 25,\n        \"max\": 47,\n        \"num_unique_values\": 7,\n        \"samples\": [\n          47,\n          42,\n          28\n        ],\n        \"semantic_type\": \"\",\n        \"description\": \"\"\n      }\n    },\n    {\n      \"column\": \"product_category_name\",\n      \"properties\": {\n        \"dtype\": \"string\",\n        \"num_unique_values\": 5,\n        \"samples\": [\n          \"moveis_decoracao\",\n          \"informatica_acessorios\",\n          \"beleza_saude\"\n        ],\n        \"semantic_type\": \"\",\n        \"description\": \"\"\n      }\n    }\n  ]\n}"
            }
          },
          "metadata": {},
          "execution_count": 15
        }
      ],
      "source": [
        "top_delayed_products"
      ]
    },
    {
      "cell_type": "code",
      "execution_count": null,
      "metadata": {
        "id": "CPyZA6W9HBjB"
      },
      "outputs": [],
      "source": [
        "top_delayed_weights = products[\"product_weight_g\"].mean()\n",
        "top_delayed_volumes = ( products[\"product_length_cm\"] *\n",
        "                        products[\"product_width_cm\"] *\n",
        "                        products[\"product_height_cm\"]).mean()\n",
        "\n",
        "# 2️⃣ 일반 제품(지연되지 않은 제품)들의 무게 & 부피 평균 계산\n",
        "normal_products = full_df[~full_df[\"product_id\"].isin(top_delayed_products[\"product_id\"])]\n",
        "normal_weights = normal_products[\"product_weight_g\"].mean()\n",
        "normal_volumes = (normal_products[\"product_length_cm\"] *\n",
        "                  normal_products[\"product_width_cm\"] *\n",
        "                  normal_products[\"product_height_cm\"]).mean()"
      ]
    },
    {
      "cell_type": "code",
      "execution_count": null,
      "metadata": {
        "id": "yhagF5q-HBjB",
        "outputId": "cb8d81a8-ba28-4e16-a244-3d31557b69ac",
        "colab": {
          "base_uri": "https://localhost:8080/",
          "height": 890
        }
      },
      "outputs": [
        {
          "output_type": "execute_result",
          "data": {
            "text/plain": [
              "Text(0.5, 1.0, 'Comparison of Average Volume')"
            ]
          },
          "metadata": {},
          "execution_count": 17
        },
        {
          "output_type": "display_data",
          "data": {
            "text/plain": [
              "<Figure size 1500x1000 with 2 Axes>"
            ],
            "image/png": "[encoded data removed]"
          },
          "metadata": {}
        }
      ],
      "source": [
        "# 📊 시각화\n",
        "plt.figure(figsize=(15, 10))\n",
        "\n",
        "# 무게 비교\n",
        "plt.subplot(1, 2, 1)\n",
        "plt.bar([\"Most Delayed Products\", \"Regular Products\"], [top_delayed_weights, normal_weights])\n",
        "plt.xlabel(\"Product Type\")\n",
        "plt.ylabel(\"Average Weight (g)\")\n",
        "plt.title(\"Comparison of Average Weight\")\n",
        "\n",
        "\n",
        "# 부피 비교\n",
        "plt.subplot(1, 2, 2)\n",
        "plt.bar([\"Most Delayed Products\", \"Regular Products\"], [top_delayed_volumes, normal_volumes])\n",
        "plt.xlabel(\"Product Type\")\n",
        "plt.ylabel(\"Average Volume (cm³)\")\n",
        "plt.title(\"Comparison of Average Volume\")"
      ]
    },
    {
      "cell_type": "markdown",
      "metadata": {
        "id": "sSFXygdIHBjB"
      },
      "source": [
        "### 거리에 따른 배송지연 분석해보기"
      ]
    },
    {
      "cell_type": "code",
      "execution_count": null,
      "metadata": {
        "id": "RbbepJusHBjB"
      },
      "outputs": [],
      "source": [
        "#우편 번호로 분석 해보려 했는데 우편번호 비슷한걸로 분석하기에는 너무 근거 없어서\n",
        "#✅ 새로운 분석 방법 (도시 기반)\n",
        "# Step 1: 고객과 판매자의 도시 정보 추가\n",
        "# Step 2: 같은 도시에 있는 경우와 다른 도시에 있는 경우 나누기\n",
        "# Step 3: 각 그룹별 평균 배송 지연 시간 비교"
      ]
    },
    {
      "cell_type": "code",
      "execution_count": null,
      "metadata": {
        "id": "wIS2dq8vHBjB",
        "outputId": "ac8043b3-c18c-44bd-9789-b18eb56c98ad",
        "colab": {
          "base_uri": "https://localhost:8080/",
          "height": 125
        }
      },
      "outputs": [
        {
          "output_type": "execute_result",
          "data": {
            "text/plain": [
              "        same_city  delivery_delay\n",
              "0  Different City      -12.172794\n",
              "1       Same City       -9.430818"
            ],
            "text/html": [
              "\n",
              "  <div id=\"df-73460138-1a09-458a-9a02-2b8a124c84f4\" class=\"colab-df-container\">\n",
              "    <div>\n",
              "<style scoped>\n",
              "    .dataframe tbody tr th:only-of-type {\n",
              "        vertical-align: middle;\n",
              "    }\n",
              "\n",
              "    .dataframe tbody tr th {\n",
              "        vertical-align: top;\n",
              "    }\n",
              "\n",
              "    .dataframe thead th {\n",
              "        text-align: right;\n",
              "    }\n",
              "</style>\n",
              "<table border=\"1\" class=\"dataframe\">\n",
              "  <thead>\n",
              "    <tr style=\"text-align: right;\">\n",
              "      <th></th>\n",
              "      <th>same_city</th>\n",
              "      <th>delivery_delay</th>\n",
              "    </tr>\n",
              "  </thead>\n",
              "  <tbody>\n",
              "    <tr>\n",
              "      <th>0</th>\n",
              "      <td>Different City</td>\n",
              "      <td>-12.172794</td>\n",
              "    </tr>\n",
              "    <tr>\n",
              "      <th>1</th>\n",
              "      <td>Same City</td>\n",
              "      <td>-9.430818</td>\n",
              "    </tr>\n",
              "  </tbody>\n",
              "</table>\n",
              "</div>\n",
              "    <div class=\"colab-df-buttons\">\n",
              "\n",
              "  <div class=\"colab-df-container\">\n",
              "    <button class=\"colab-df-convert\" onclick=\"convertToInteractive('df-73460138-1a09-458a-9a02-2b8a124c84f4')\"\n",
              "            title=\"Convert this dataframe to an interactive table.\"\n",
              "            style=\"display:none;\">\n",
              "\n",
              "  <svg xmlns=\"http://www.w3.org/2000/svg\" height=\"24px\" viewBox=\"0 -960 960 960\">\n",
              "    <path d=\"M120-120v-720h720v720H120Zm60-500h600v-160H180v160Zm220 220h160v-160H400v160Zm0 220h160v-160H400v160ZM180-400h160v-160H180v160Zm440 0h160v-160H620v160ZM180-180h160v-160H180v160Zm440 0h160v-160H620v160Z\"/>\n",
              "  </svg>\n",
              "    </button>\n",
              "\n",
              "  <style>\n",
              "    .colab-df-container {\n",
              "      display:flex;\n",
              "      gap: 12px;\n",
              "    }\n",
              "\n",
              "    .colab-df-convert {\n",
              "      background-color: #E8F0FE;\n",
              "      border: none;\n",
              "      border-radius: 50%;\n",
              "      cursor: pointer;\n",
              "      display: none;\n",
              "      fill: #1967D2;\n",
              "      height: 32px;\n",
              "      padding: 0 0 0 0;\n",
              "      width: 32px;\n",
              "    }\n",
              "\n",
              "    .colab-df-convert:hover {\n",
              "      background-color: #E2EBFA;\n",
              "      box-shadow: 0px 1px 2px rgba(60, 64, 67, 0.3), 0px 1px 3px 1px rgba(60, 64, 67, 0.15);\n",
              "      fill: #174EA6;\n",
              "    }\n",
              "\n",
              "    .colab-df-buttons div {\n",
              "      margin-bottom: 4px;\n",
              "    }\n",
              "\n",
              "    [theme=dark] .colab-df-convert {\n",
              "      background-color: #3B4455;\n",
              "      fill: #D2E3FC;\n",
              "    }\n",
              "\n",
              "    [theme=dark] .colab-df-convert:hover {\n",
              "      background-color: #434B5C;\n",
              "      box-shadow: 0px 1px 3px 1px rgba(0, 0, 0, 0.15);\n",
              "      filter: drop-shadow(0px 1px 2px rgba(0, 0, 0, 0.3));\n",
              "      fill: #FFFFFF;\n",
              "    }\n",
              "  </style>\n",
              "\n",
              "    <script>\n",
              "      const buttonEl =\n",
              "        document.querySelector('#df-73460138-1a09-458a-9a02-2b8a124c84f4 button.colab-df-convert');\n",
              "      buttonEl.style.display =\n",
              "        google.colab.kernel.accessAllowed ? 'block' : 'none';\n",
              "\n",
              "      async function convertToInteractive(key) {\n",
              "        const element = document.querySelector('#df-73460138-1a09-458a-9a02-2b8a124c84f4');\n",
              "        const dataTable =\n",
              "          await google.colab.kernel.invokeFunction('convertToInteractive',\n",
              "                                                    [key], {});\n",
              "        if (!dataTable) return;\n",
              "\n",
              "        const docLinkHtml = 'Like what you see? Visit the ' +\n",
              "          '<a target=\"_blank\" href=https://colab.research.google.com/notebooks/data_table.ipynb>data table notebook</a>'\n",
              "          + ' to learn more about interactive tables.';\n",
              "        element.innerHTML = '';\n",
              "        dataTable['output_type'] = 'display_data';\n",
              "        await google.colab.output.renderOutput(dataTable, element);\n",
              "        const docLink = document.createElement('div');\n",
              "        docLink.innerHTML = docLinkHtml;\n",
              "        element.appendChild(docLink);\n",
              "      }\n",
              "    </script>\n",
              "  </div>\n",
              "\n",
              "\n",
              "<div id=\"df-ff62db5c-af3b-41f6-a7ff-01a7a813270a\">\n",
              "  <button class=\"colab-df-quickchart\" onclick=\"quickchart('df-ff62db5c-af3b-41f6-a7ff-01a7a813270a')\"\n",
              "            title=\"Suggest charts\"\n",
              "            style=\"display:none;\">\n",
              "\n",
              "<svg xmlns=\"http://www.w3.org/2000/svg\" height=\"24px\"viewBox=\"0 0 24 24\"\n",
              "     width=\"24px\">\n",
              "    <g>\n",
              "        <path d=\"M19 3H5c-1.1 0-2 .9-2 2v14c0 1.1.9 2 2 2h14c1.1 0 2-.9 2-2V5c0-1.1-.9-2-2-2zM9 17H7v-7h2v7zm4 0h-2V7h2v10zm4 0h-2v-4h2v4z\"/>\n",
              "    </g>\n",
              "</svg>\n",
              "  </button>\n",
              "\n",
              "<style>\n",
              "  .colab-df-quickchart {\n",
              "      --bg-color: #E8F0FE;\n",
              "      --fill-color: #1967D2;\n",
              "      --hover-bg-color: #E2EBFA;\n",
              "      --hover-fill-color: #174EA6;\n",
              "      --disabled-fill-color: #AAA;\n",
              "      --disabled-bg-color: #DDD;\n",
              "  }\n",
              "\n",
              "  [theme=dark] .colab-df-quickchart {\n",
              "      --bg-color: #3B4455;\n",
              "      --fill-color: #D2E3FC;\n",
              "      --hover-bg-color: #434B5C;\n",
              "      --hover-fill-color: #FFFFFF;\n",
              "      --disabled-bg-color: #3B4455;\n",
              "      --disabled-fill-color: #666;\n",
              "  }\n",
              "\n",
              "  .colab-df-quickchart {\n",
              "    background-color: var(--bg-color);\n",
              "    border: none;\n",
              "    border-radius: 50%;\n",
              "    cursor: pointer;\n",
              "    display: none;\n",
              "    fill: var(--fill-color);\n",
              "    height: 32px;\n",
              "    padding: 0;\n",
              "    width: 32px;\n",
              "  }\n",
              "\n",
              "  .colab-df-quickchart:hover {\n",
              "    background-color: var(--hover-bg-color);\n",
              "    box-shadow: 0 1px 2px rgba(60, 64, 67, 0.3), 0 1px 3px 1px rgba(60, 64, 67, 0.15);\n",
              "    fill: var(--button-hover-fill-color);\n",
              "  }\n",
              "\n",
              "  .colab-df-quickchart-complete:disabled,\n",
              "  .colab-df-quickchart-complete:disabled:hover {\n",
              "    background-color: var(--disabled-bg-color);\n",
              "    fill: var(--disabled-fill-color);\n",
              "    box-shadow: none;\n",
              "  }\n",
              "\n",
              "  .colab-df-spinner {\n",
              "    border: 2px solid var(--fill-color);\n",
              "    border-color: transparent;\n",
              "    border-bottom-color: var(--fill-color);\n",
              "    animation:\n",
              "      spin 1s steps(1) infinite;\n",
              "  }\n",
              "\n",
              "  @keyframes spin {\n",
              "    0% {\n",
              "      border-color: transparent;\n",
              "      border-bottom-color: var(--fill-color);\n",
              "      border-left-color: var(--fill-color);\n",
              "    }\n",
              "    20% {\n",
              "      border-color: transparent;\n",
              "      border-left-color: var(--fill-color);\n",
              "      border-top-color: var(--fill-color);\n",
              "    }\n",
              "    30% {\n",
              "      border-color: transparent;\n",
              "      border-left-color: var(--fill-color);\n",
              "      border-top-color: var(--fill-color);\n",
              "      border-right-color: var(--fill-color);\n",
              "    }\n",
              "    40% {\n",
              "      border-color: transparent;\n",
              "      border-right-color: var(--fill-color);\n",
              "      border-top-color: var(--fill-color);\n",
              "    }\n",
              "    60% {\n",
              "      border-color: transparent;\n",
              "      border-right-color: var(--fill-color);\n",
              "    }\n",
              "    80% {\n",
              "      border-color: transparent;\n",
              "      border-right-color: var(--fill-color);\n",
              "      border-bottom-color: var(--fill-color);\n",
              "    }\n",
              "    90% {\n",
              "      border-color: transparent;\n",
              "      border-bottom-color: var(--fill-color);\n",
              "    }\n",
              "  }\n",
              "</style>\n",
              "\n",
              "  <script>\n",
              "    async function quickchart(key) {\n",
              "      const quickchartButtonEl =\n",
              "        document.querySelector('#' + key + ' button');\n",
              "      quickchartButtonEl.disabled = true;  // To prevent multiple clicks.\n",
              "      quickchartButtonEl.classList.add('colab-df-spinner');\n",
              "      try {\n",
              "        const charts = await google.colab.kernel.invokeFunction(\n",
              "            'suggestCharts', [key], {});\n",
              "      } catch (error) {\n",
              "        console.error('Error during call to suggestCharts:', error);\n",
              "      }\n",
              "      quickchartButtonEl.classList.remove('colab-df-spinner');\n",
              "      quickchartButtonEl.classList.add('colab-df-quickchart-complete');\n",
              "    }\n",
              "    (() => {\n",
              "      let quickchartButtonEl =\n",
              "        document.querySelector('#df-ff62db5c-af3b-41f6-a7ff-01a7a813270a button');\n",
              "      quickchartButtonEl.style.display =\n",
              "        google.colab.kernel.accessAllowed ? 'block' : 'none';\n",
              "    })();\n",
              "  </script>\n",
              "</div>\n",
              "\n",
              "  <div id=\"id_b421f381-3ce8-4bf5-9da7-29c6e6cbc4fa\">\n",
              "    <style>\n",
              "      .colab-df-generate {\n",
              "        background-color: #E8F0FE;\n",
              "        border: none;\n",
              "        border-radius: 50%;\n",
              "        cursor: pointer;\n",
              "        display: none;\n",
              "        fill: #1967D2;\n",
              "        height: 32px;\n",
              "        padding: 0 0 0 0;\n",
              "        width: 32px;\n",
              "      }\n",
              "\n",
              "      .colab-df-generate:hover {\n",
              "        background-color: #E2EBFA;\n",
              "        box-shadow: 0px 1px 2px rgba(60, 64, 67, 0.3), 0px 1px 3px 1px rgba(60, 64, 67, 0.15);\n",
              "        fill: #174EA6;\n",
              "      }\n",
              "\n",
              "      [theme=dark] .colab-df-generate {\n",
              "        background-color: #3B4455;\n",
              "        fill: #D2E3FC;\n",
              "      }\n",
              "\n",
              "      [theme=dark] .colab-df-generate:hover {\n",
              "        background-color: #434B5C;\n",
              "        box-shadow: 0px 1px 3px 1px rgba(0, 0, 0, 0.15);\n",
              "        filter: drop-shadow(0px 1px 2px rgba(0, 0, 0, 0.3));\n",
              "        fill: #FFFFFF;\n",
              "      }\n",
              "    </style>\n",
              "    <button class=\"colab-df-generate\" onclick=\"generateWithVariable('city_delay')\"\n",
              "            title=\"Generate code using this dataframe.\"\n",
              "            style=\"display:none;\">\n",
              "\n",
              "  <svg xmlns=\"http://www.w3.org/2000/svg\" height=\"24px\"viewBox=\"0 0 24 24\"\n",
              "       width=\"24px\">\n",
              "    <path d=\"M7,19H8.4L18.45,9,17,7.55,7,17.6ZM5,21V16.75L18.45,3.32a2,2,0,0,1,2.83,0l1.4,1.43a1.91,1.91,0,0,1,.58,1.4,1.91,1.91,0,0,1-.58,1.4L9.25,21ZM18.45,9,17,7.55Zm-12,3A5.31,5.31,0,0,0,4.9,8.1,5.31,5.31,0,0,0,1,6.5,5.31,5.31,0,0,0,4.9,4.9,5.31,5.31,0,0,0,6.5,1,5.31,5.31,0,0,0,8.1,4.9,5.31,5.31,0,0,0,12,6.5,5.46,5.46,0,0,0,6.5,12Z\"/>\n",
              "  </svg>\n",
              "    </button>\n",
              "    <script>\n",
              "      (() => {\n",
              "      const buttonEl =\n",
              "        document.querySelector('#id_b421f381-3ce8-4bf5-9da7-29c6e6cbc4fa button.colab-df-generate');\n",
              "      buttonEl.style.display =\n",
              "        google.colab.kernel.accessAllowed ? 'block' : 'none';\n",
              "\n",
              "      buttonEl.onclick = () => {\n",
              "        google.colab.notebook.generateWithVariable('city_delay');\n",
              "      }\n",
              "      })();\n",
              "    </script>\n",
              "  </div>\n",
              "\n",
              "    </div>\n",
              "  </div>\n"
            ],
            "application/vnd.google.colaboratory.intrinsic+json": {
              "type": "dataframe",
              "variable_name": "city_delay",
              "summary": "{\n  \"name\": \"city_delay\",\n  \"rows\": 2,\n  \"fields\": [\n    {\n      \"column\": \"same_city\",\n      \"properties\": {\n        \"dtype\": \"string\",\n        \"num_unique_values\": 2,\n        \"samples\": [\n          \"Same City\",\n          \"Different City\"\n        ],\n        \"semantic_type\": \"\",\n        \"description\": \"\"\n      }\n    },\n    {\n      \"column\": \"delivery_delay\",\n      \"properties\": {\n        \"dtype\": \"number\",\n        \"std\": 1.9388703565550316,\n        \"min\": -12.172794363986178,\n        \"max\": -9.430817610062894,\n        \"num_unique_values\": 2,\n        \"samples\": [\n          -9.430817610062894,\n          -12.172794363986178\n        ],\n        \"semantic_type\": \"\",\n        \"description\": \"\"\n      }\n    }\n  ]\n}"
            }
          },
          "metadata": {},
          "execution_count": 19
        }
      ],
      "source": [
        "# 🚀 같은 도시에 있는 경우와 다른 도시에 있는 경우 구분\n",
        "full_df['same_city'] = full_df['customer_city'] == full_df['seller_city']\n",
        "# 각 그룹별 평균 배송 지연 시간 계산\n",
        "city_delay = full_df.groupby('same_city')['delivery_delay'].mean().reset_index()\n",
        "city_delay['same_city'] = city_delay['same_city'].map({True: 'Same City', False: 'Different City'})\n",
        "city_delay\n",
        "\n",
        "# 예상 배송일보다 더 빨리 도착하는 경향이 있지만 다른 값이더 오래 걸림"
      ]
    },
    {
      "cell_type": "code",
      "source": [
        "# 📊 시각화\n",
        "plt.figure(figsize=(8, 6))\n",
        "plt.bar(city_delay['same_city'], city_delay['delivery_delay'])\n",
        "plt.xlabel(\"Customer and Seller Location\")\n",
        "plt.ylabel(\"Average Delivery Delay (Days)\")\n",
        "plt.title(\"Delivery Delay by Customer and Seller Location\")\n",
        "plt.show()\n"
      ],
      "metadata": {
        "colab": {
          "base_uri": "https://localhost:8080/",
          "height": 564
        },
        "id": "HPfz2TD1a3jw",
        "outputId": "81bc07ee-ed8d-4333-dad1-6a08db664e02"
      },
      "execution_count": null,
      "outputs": [
        {
          "output_type": "display_data",
          "data": {
            "text/plain": [
              "<Figure size 800x600 with 1 Axes>"
            ],
            "image/png": "[encoded data removed]"
          },
          "metadata": {}
        }
      ]
    },
    {
      "cell_type": "markdown",
      "source": [
        "#도시별 배송기간 확인하기"
      ],
      "metadata": {
        "id": "QT7LH3Fwa6zO"
      }
    },
    {
      "cell_type": "code",
      "source": [
        "# 도시별 평균 배송 지연 시간 계산\n",
        "city_delay = full_df.groupby('customer_city')['delivery_delay'].mean().reset_index()\n"
      ],
      "metadata": {
        "id": "256Ni3wna82K"
      },
      "execution_count": null,
      "outputs": []
    },
    {
      "cell_type": "code",
      "source": [
        "# 주문이 많은 상위 10개 도시만 추출 (주문 수가 많은 순서대로 정렬)\n",
        "top_cities = full_df['customer_city'].value_counts().head(10).index\n",
        "city_delay = city_delay[city_delay['customer_city'].isin(top_cities)]"
      ],
      "metadata": {
        "id": "vmK_1Gdna9ZL"
      },
      "execution_count": null,
      "outputs": []
    },
    {
      "cell_type": "code",
      "source": [
        "# 도시별 평균 배송 지연 시간을 내림차순 정렬\n",
        "city_delay_sorted_desc = city_delay.sort_values(by=\"delivery_delay\", ascending=False)"
      ],
      "metadata": {
        "id": "_s7k0iYoa_i2"
      },
      "execution_count": null,
      "outputs": []
    },
    {
      "cell_type": "code",
      "source": [
        "# 시각화 진행 (내림차순 정렬, 상위 3개 도시 강조)\n",
        "plt.figure(figsize=(12, 6))\n",
        "\n",
        "# 막대 색상 설정 (상위 3개 도시만 빨간색)\n",
        "colors = ['red' if i < 3 else 'orange' for i in range(len(city_delay_sorted_desc))]\n",
        "\n",
        "bars = plt.barh(city_delay_sorted_desc['customer_city'], city_delay_sorted_desc['delivery_delay'], color=colors)\n",
        "\n",
        "# 각 막대 안에 평균 지연 일수 표시 (막대 내부에 글씨 넣기)\n",
        "for bar, delay in zip(bars, city_delay_sorted_desc['delivery_delay']):\n",
        "    plt.text(bar.get_width() / 2,  # x 위치 (막대의 중간)\n",
        "             bar.get_y() + bar.get_height() / 2,  # y 위치 (막대의 중앙)\n",
        "             f\"{delay:.1f} days\",  # 표시할 텍스트 (소수점 1자리까지)\n",
        "             va='center', ha='center', fontsize=10, color='white', fontweight='bold')\n",
        "\n",
        "plt.xlabel(\"Average Delivery Delay (Days)\")\n",
        "plt.ylabel(\"City\")\n",
        "plt.title(\"Average Delivery Delay by City (Descending Order)\")\n",
        "plt.gca().invert_yaxis()\n",
        "\n"
      ],
      "metadata": {
        "colab": {
          "base_uri": "https://localhost:8080/",
          "height": 564
        },
        "id": "0o0J6gTcbANO",
        "outputId": "1ddb219f-ea4e-4dc4-b776-76ad42582478"
      },
      "execution_count": null,
      "outputs": [
        {
          "output_type": "display_data",
          "data": {
            "text/plain": [
              "<Figure size 1200x600 with 1 Axes>"
            ],
            "image/png": "[encoded data removed]"
          },
          "metadata": {}
        }
      ]
    },
    {
      "cell_type": "markdown",
      "metadata": {
        "id": "yRMKTh0_HBjB"
      },
      "source": [
        "## 모델링 및 평가"
      ]
    },
    {
      "cell_type": "markdown",
      "metadata": {
        "id": "vN3ywsLJHBjB"
      },
      "source": [
        "### 데이터 준비"
      ]
    },
    {
      "cell_type": "code",
      "source": [
        "full_df.shape"
      ],
      "metadata": {
        "colab": {
          "base_uri": "https://localhost:8080/"
        },
        "id": "Mzp5bbSD4AaR",
        "outputId": "e448045c-e2a2-44ee-a2db-2fea6b5abba1"
      },
      "execution_count": null,
      "outputs": [
        {
          "output_type": "execute_result",
          "data": {
            "text/plain": [
              "(110195, 29)"
            ]
          },
          "metadata": {},
          "execution_count": 25
        }
      ]
    },
    {
      "cell_type": "code",
      "execution_count": null,
      "metadata": {
        "id": "FP13pTZrHBjB"
      },
      "outputs": [],
      "source": [
        "# 특성 선택\n",
        "feature_columns = [\n",
        "    'product_weight_g', 'product_length_cm', 'product_height_cm',\n",
        "    'product_width_cm', 'product_volume_cm3', 'freight_value'\n",
        "]\n",
        "\n",
        "# 데이터 분할 및 스케일링\n",
        "X = full_df[feature_columns]\n",
        "y = full_df['delayed'].astype(int)\n",
        "\n",
        "X_train, X_test, y_train, y_test = train_test_split(X, y, test_size=0.2, random_state=42)\n",
        "\n",
        "scaler = StandardScaler()\n",
        "X_train_scaled = scaler.fit_transform(X_train)\n",
        "X_test_scaled = scaler.transform(X_test)"
      ]
    },
    {
      "cell_type": "code",
      "source": [
        "corr_matrix = full_df[[\n",
        "    'product_weight_g', 'product_length_cm', 'product_height_cm',\n",
        "    'product_width_cm', 'product_volume_cm3', 'freight_value'\n",
        "]].corr()\n",
        "\n",
        "# 히트맵 시각화\n",
        "plt.figure(figsize=(10, 8))\n",
        "sns.heatmap(corr_matrix, annot=True, cmap='coolwarm', linewidths=0.5)\n",
        "plt.title('Feature Correlation Heatmap', fontsize=16)\n",
        "plt.show()"
      ],
      "metadata": {
        "colab": {
          "base_uri": "https://localhost:8080/",
          "height": 835
        },
        "id": "VaUwQcLu3DI-",
        "outputId": "81a03d62-47ab-4a3e-f34c-256fd714c96b"
      },
      "execution_count": null,
      "outputs": [
        {
          "output_type": "display_data",
          "data": {
            "text/plain": [
              "<Figure size 1000x800 with 2 Axes>"
            ],
            "image/png": "[encoded data removed]"
          },
          "metadata": {}
        }
      ]
    },
    {
      "cell_type": "markdown",
      "metadata": {
        "id": "lRBnTBEYHBjB"
      },
      "source": [
        "###  모델 학습 및 평가"
      ]
    },
    {
      "cell_type": "code",
      "execution_count": null,
      "metadata": {
        "id": "7T2gIvYLHBjB",
        "colab": {
          "base_uri": "https://localhost:8080/"
        },
        "outputId": "0e50aba5-46e1-4810-ef93-861a49e62c1f"
      },
      "outputs": [
        {
          "output_type": "stream",
          "name": "stdout",
          "text": [
            "\n",
            "Random Forest Results:\n",
            "Classification Report:\n",
            "              precision    recall  f1-score   support\n",
            "\n",
            "           0       0.94      0.94      0.94     20535\n",
            "           1       0.20      0.23      0.21      1504\n",
            "\n",
            "    accuracy                           0.89     22039\n",
            "   macro avg       0.57      0.58      0.58     22039\n",
            "weighted avg       0.89      0.89      0.89     22039\n",
            "\n",
            "ROC-AUC: 0.6515\n",
            "Confusion Matrix:\n",
            "[[19209  1326]\n",
            " [ 1165   339]]\n",
            "\n",
            "Logistic Regression Results:\n",
            "Classification Report:\n",
            "              precision    recall  f1-score   support\n",
            "\n",
            "           0       0.94      0.73      0.82     20535\n",
            "           1       0.09      0.37      0.15      1504\n",
            "\n",
            "    accuracy                           0.70     22039\n",
            "   macro avg       0.52      0.55      0.48     22039\n",
            "weighted avg       0.88      0.70      0.78     22039\n",
            "\n",
            "ROC-AUC: 0.5845\n",
            "Confusion Matrix:\n",
            "[[14960  5575]\n",
            " [  943   561]]\n",
            "\n",
            "XGBoost Results:\n",
            "Classification Report:\n",
            "              precision    recall  f1-score   support\n",
            "\n",
            "           0       0.94      0.88      0.91     20535\n",
            "           1       0.13      0.25      0.17      1504\n",
            "\n",
            "    accuracy                           0.84     22039\n",
            "   macro avg       0.54      0.57      0.54     22039\n",
            "weighted avg       0.89      0.84      0.86     22039\n",
            "\n",
            "ROC-AUC: 0.6158\n",
            "Confusion Matrix:\n",
            "[[18050  2485]\n",
            " [ 1125   379]]\n"
          ]
        }
      ],
      "source": [
        "# Step 1: 결측값 처리 (평균값으로 대체)\n",
        "imputer = SimpleImputer(strategy='mean')\n",
        "X_train_imputed = imputer.fit_transform(X_train_scaled)  # 학습 데이터 결측값 처리\n",
        "X_test_imputed = imputer.transform(X_test_scaled)       # 테스트 데이터 결측값 처리\n",
        "\n",
        "# Step 2: 클래스 불균형 처리 (SMOTE 적용)\n",
        "smote = SMOTE(random_state=42)\n",
        "X_train_resampled, y_train_resampled = smote.fit_resample(X_train_imputed, y_train)\n",
        "\n",
        "# Step 3: 스케일링\n",
        "scaler = StandardScaler()\n",
        "X_train_scaled_final = scaler.fit_transform(X_train_resampled)\n",
        "X_test_scaled_final = scaler.transform(X_test_imputed)\n",
        "\n",
        "# Step 4: 모델 정의\n",
        "models = {\n",
        "    'Random Forest': RandomForestClassifier(random_state=42, class_weight='balanced'),\n",
        "    'Logistic Regression': LogisticRegression(random_state=42, class_weight='balanced'),\n",
        "    'XGBoost': xgb.XGBClassifier(random_state=42, scale_pos_weight=len(y_train_resampled[y_train_resampled == 0]) / len(y_train_resampled[y_train_resampled == 1]))\n",
        "}\n",
        "\n",
        "# Step 5: 모델 학습 및 평가\n",
        "results = {}\n",
        "\n",
        "for name, model in models.items():\n",
        "    # 모델 학습\n",
        "    model.fit(X_train_scaled_final, y_train_resampled)\n",
        "\n",
        "    # 예측 결과\n",
        "    y_pred = model.predict(X_test_scaled_final)\n",
        "    y_pred_proba = model.predict_proba(X_test_scaled_final)[:, 1]  # ROC-AUC 계산용 확률값\n",
        "\n",
        "    # 평가 지표 계산\n",
        "    classification = classification_report(y_test, y_pred, output_dict=True)\n",
        "    roc_auc = roc_auc_score(y_test, y_pred_proba)\n",
        "    confusion = confusion_matrix(y_test, y_pred)\n",
        "\n",
        "    # 결과 저장\n",
        "    results[name] = {\n",
        "        'classification_report': classification,\n",
        "        'roc_auc': roc_auc,\n",
        "        'confusion_matrix': confusion\n",
        "    }\n",
        "\n",
        "    # 결과 출력\n",
        "    print(f\"\\n{name} Results:\")\n",
        "    print(\"Classification Report:\")\n",
        "    print(classification_report(y_test, y_pred))\n",
        "    print(f\"ROC-AUC: {roc_auc:.4f}\")\n",
        "    print(f\"Confusion Matrix:\\n{confusion}\")\n"
      ]
    },
    {
      "cell_type": "code",
      "source": [
        "# # PCA 버전\n",
        "\n",
        "# from sklearn.decomposition import PCA\n",
        "# from sklearn.impute import SimpleImputer\n",
        "# from sklearn.preprocessing import StandardScaler\n",
        "# from sklearn.model_selection import train_test_split\n",
        "# from sklearn.ensemble import RandomForestClassifier\n",
        "# from sklearn.linear_model import LogisticRegression\n",
        "# from xgboost import XGBClassifier\n",
        "# from imblearn.over_sampling import SMOTE\n",
        "# from sklearn.metrics import classification_report, roc_auc_score, confusion_matrix\n",
        "\n",
        "# # Step 1: 결측값 처리 (평균값으로 대체)\n",
        "# imputer = SimpleImputer(strategy='mean')\n",
        "# X_train_imputed = imputer.fit_transform(X_train_scaled)  # 학습 데이터 결측값 처리\n",
        "# X_test_imputed = imputer.transform(X_test_scaled)       # 테스트 데이터 결측값 처리\n",
        "\n",
        "# # Step 2: PCA 적용 (설명 분산 비율을 기준으로 차원 축소, 예: 95% 이상 유지)\n",
        "# pca = PCA(n_components=0.95, random_state=42)\n",
        "# X_train_pca = pca.fit_transform(X_train_imputed)\n",
        "# X_test_pca = pca.transform(X_test_imputed)\n",
        "\n",
        "# # Step 3: 클래스 불균형 처리 (SMOTE 적용)\n",
        "# smote = SMOTE(random_state=42)\n",
        "# X_train_resampled, y_train_resampled = smote.fit_resample(X_train_pca, y_train)\n",
        "\n",
        "# # Step 4: 스케일링\n",
        "# scaler = StandardScaler()\n",
        "# X_train_scaled_final = scaler.fit_transform(X_train_resampled)\n",
        "# X_test_scaled_final = scaler.transform(X_test_pca)\n",
        "\n",
        "# # Step 5: 모델 정의\n",
        "# models = {\n",
        "#     'Random Forest': RandomForestClassifier(random_state=42, class_weight='balanced'),\n",
        "#     'Logistic Regression': LogisticRegression(random_state=42, class_weight='balanced'),\n",
        "#     'XGBoost': XGBClassifier(random_state=42, scale_pos_weight=len(y_train_resampled[y_train_resampled == 0]) / len(y_train_resampled[y_train_resampled == 1]))\n",
        "# }\n",
        "\n",
        "# # Step 6: 모델 학습 및 평가\n",
        "# results = {}\n",
        "\n",
        "# for name, model in models.items():\n",
        "#     # 모델 학습\n",
        "#     model.fit(X_train_scaled_final, y_train_resampled)\n",
        "\n",
        "#     # 예측 결과\n",
        "#     y_pred = model.predict(X_test_scaled_final)\n",
        "#     y_pred_proba = model.predict_proba(X_test_scaled_final)[:, 1]  # ROC-AUC 계산용 확률값\n",
        "\n",
        "#     # 평가 지표 계산\n",
        "#     classification = classification_report(y_test, y_pred, output_dict=True)\n",
        "#     roc_auc = roc_auc_score(y_test, y_pred_proba)\n",
        "#     confusion = confusion_matrix(y_test, y_pred)\n",
        "\n",
        "#     # 결과 저장\n",
        "#     results[name] = {\n",
        "#         'classification_report': classification,\n",
        "#         'roc_auc': roc_auc,\n",
        "#         'confusion_matrix': confusion\n",
        "#     }\n",
        "\n",
        "#     # 결과 출력\n",
        "#     print(f\"\\n{name} Results:\")\n",
        "#     print(\"Classification Report:\")\n",
        "#     print(classification_report(y_test, y_pred))\n",
        "#     print(f\"ROC-AUC: {roc_auc:.4f}\")\n",
        "#     print(f\"Confusion Matrix:\\n{confusion}\")"
      ],
      "metadata": {
        "colab": {
          "base_uri": "https://localhost:8080/"
        },
        "id": "8Di8n8UW3Y26",
        "outputId": "e1771491-a6ca-4982-e32a-02a0c885a4f1"
      },
      "execution_count": null,
      "outputs": [
        {
          "output_type": "stream",
          "name": "stdout",
          "text": [
            "\n",
            "Random Forest Results:\n",
            "Classification Report:\n",
            "              precision    recall  f1-score   support\n",
            "\n",
            "           0       0.94      0.91      0.93     20535\n",
            "           1       0.18      0.27      0.21      1504\n",
            "\n",
            "    accuracy                           0.86     22039\n",
            "   macro avg       0.56      0.59      0.57     22039\n",
            "weighted avg       0.89      0.86      0.88     22039\n",
            "\n",
            "ROC-AUC: 0.6567\n",
            "Confusion Matrix:\n",
            "[[18615  1920]\n",
            " [ 1096   408]]\n",
            "\n",
            "Logistic Regression Results:\n",
            "Classification Report:\n",
            "              precision    recall  f1-score   support\n",
            "\n",
            "           0       0.94      0.72      0.82     20535\n",
            "           1       0.09      0.37      0.14      1504\n",
            "\n",
            "    accuracy                           0.70     22039\n",
            "   macro avg       0.51      0.55      0.48     22039\n",
            "weighted avg       0.88      0.70      0.77     22039\n",
            "\n",
            "ROC-AUC: 0.5841\n",
            "Confusion Matrix:\n",
            "[[14877  5658]\n",
            " [  948   556]]\n",
            "\n",
            "XGBoost Results:\n",
            "Classification Report:\n",
            "              precision    recall  f1-score   support\n",
            "\n",
            "           0       0.95      0.70      0.80     20535\n",
            "           1       0.10      0.47      0.17      1504\n",
            "\n",
            "    accuracy                           0.68     22039\n",
            "   macro avg       0.53      0.58      0.49     22039\n",
            "weighted avg       0.89      0.68      0.76     22039\n",
            "\n",
            "ROC-AUC: 0.6207\n",
            "Confusion Matrix:\n",
            "[[14311  6224]\n",
            " [  793   711]]\n"
          ]
        }
      ]
    },
    {
      "cell_type": "markdown",
      "metadata": {
        "id": "xQBp7wkHHBjC"
      },
      "source": [
        "### 결과 시각화"
      ]
    },
    {
      "cell_type": "code",
      "execution_count": null,
      "metadata": {
        "id": "Kv-J8e6uHBjC",
        "colab": {
          "base_uri": "https://localhost:8080/",
          "height": 607
        },
        "outputId": "06b1d0ec-c5bb-4f1e-997a-a343fd9c2b01"
      },
      "outputs": [
        {
          "output_type": "display_data",
          "data": {
            "text/plain": [
              "<Figure size 1000x600 with 1 Axes>"
            ],
            "image/png": "[encoded data removed]"
          },
          "metadata": {}
        }
      ],
      "source": [
        "# ROC-AUC 비교\n",
        "sorted_results = dict(sorted(results.items(), key=lambda x: x[1]['roc_auc'], reverse=True))  # ROC-AUC 기준 정렬\n",
        "\n",
        "plt.figure(figsize=(10, 6))\n",
        "colors = sns.color_palette(\"viridis\", len(sorted_results))  # 색상 팔레트\n",
        "plt.bar(sorted_results.keys(), [res['roc_auc'] for res in sorted_results.values()], color=colors)\n",
        "\n",
        "# 그래프 제목 및 축 설정\n",
        "plt.title(\"Model ROC-AUC Comparison\", fontsize=16)\n",
        "plt.ylabel(\"ROC-AUC\", fontsize=12)\n",
        "plt.xticks(rotation=45, ha='right', fontsize=10)\n",
        "\n",
        "# 각 바 위에 ROC-AUC 값 표시\n",
        "for i, v in enumerate([res['roc_auc'] for res in sorted_results.values()]):\n",
        "    plt.text(i, v + 0.01, f\"{v:.2f}\", ha='center', fontsize=10)\n",
        "\n",
        "plt.tight_layout()\n",
        "plt.show()\n"
      ]
    }
  ],
  "metadata": {
    "kernelspec": {
      "display_name": "python-training",
      "language": "python",
      "name": "python3"
    },
    "language_info": {
      "codemirror_mode": {
        "name": "ipython",
        "version": 3
      },
      "file_extension": ".py",
      "mimetype": "text/x-python",
      "name": "python",
      "nbconvert_exporter": "python",
      "pygments_lexer": "ipython3",
      "version": "3.10.16"
    },
    "colab": {
      "provenance": [],
      "include_colab_link": true
    }
  },
  "nbformat": 4,
  "nbformat_minor": 0
}